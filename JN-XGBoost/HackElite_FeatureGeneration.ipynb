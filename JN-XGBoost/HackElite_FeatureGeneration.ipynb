{
 "cells": [
  {
   "cell_type": "code",
   "execution_count": 2,
   "metadata": {},
   "outputs": [],
   "source": [
    "import pandas as pd \n",
    "import sklearn \n",
    "import numpy as np \n",
    "import seaborn as sns\n",
    "import matplotlib.pyplot as plt\n",
    "from sklearn.preprocessing import scale\n",
    "from sklearn.preprocessing import OneHotEncoder\n",
    "from sklearn.preprocessing import LabelEncoder\n",
    "from sklearn.model_selection import train_test_split\n",
    "import xgboost as xgb\n",
    "from sklearn import metrics \n",
    "from scipy import stats\n",
    "from scipy.stats import randint\n",
    "from sklearn.model_selection import RandomizedSearchCV\n",
    "from sklearn.model_selection import cross_val_score\n",
    "from sklearn.model_selection import KFold\n",
    "from sklearn.preprocessing import normalize"
   ]
  },
  {
   "cell_type": "code",
   "execution_count": 3,
   "metadata": {},
   "outputs": [],
   "source": [
    "data=pd.read_csv('Train.csv')\n",
    "data.head()\n",
    "data['Client Retention Flag']= data['Client Retention Flag'].map({'Yes': 1, 'No': 0})"
   ]
  },
  {
   "cell_type": "code",
   "execution_count": 4,
   "metadata": {},
   "outputs": [],
   "source": [
    "data_encoded=pd.get_dummies(data)\n",
    "data_encoded=data_encoded.drop(columns='Client ID')\n",
    "pd.get_dummies(data_encoded,drop_first=True)\n",
    "data_encoded=pd.get_dummies(data_encoded,columns=['Flag 2','Flag 5'])\n",
    "#data_encoded.head()"
   ]
  },
  {
   "cell_type": "code",
   "execution_count": 5,
   "metadata": {},
   "outputs": [],
   "source": [
    "Y=data_encoded['Client Retention Flag']\n",
    "X=data_encoded.drop(columns='Client Retention Flag')"
   ]
  },
  {
   "cell_type": "code",
   "execution_count": 6,
   "metadata": {},
   "outputs": [],
   "source": [
    "Retened=X[Y==1]\n",
    "Left=X[Y==0]"
   ]
  },
  {
   "cell_type": "code",
   "execution_count": 10,
   "metadata": {},
   "outputs": [
    {
     "data": {
      "text/html": [
       "<div>\n",
       "<style scoped>\n",
       "    .dataframe tbody tr th:only-of-type {\n",
       "        vertical-align: middle;\n",
       "    }\n",
       "\n",
       "    .dataframe tbody tr th {\n",
       "        vertical-align: top;\n",
       "    }\n",
       "\n",
       "    .dataframe thead th {\n",
       "        text-align: right;\n",
       "    }\n",
       "</style>\n",
       "<table border=\"1\" class=\"dataframe\">\n",
       "  <thead>\n",
       "    <tr style=\"text-align: right;\">\n",
       "      <th></th>\n",
       "      <th>Company ID</th>\n",
       "      <th>Activity 1 Time Period 11</th>\n",
       "      <th>Activity 1 Time Period 10</th>\n",
       "      <th>Activity 1 Time Period 9</th>\n",
       "      <th>Activity 1 Time Period 8</th>\n",
       "      <th>Activity 1 Time Period 7</th>\n",
       "      <th>Activity 1 Time Period 6</th>\n",
       "      <th>Activity 1 Time Period 5</th>\n",
       "      <th>Activity 1 Time Period 4</th>\n",
       "      <th>Activity 1 Time Period 3</th>\n",
       "      <th>...</th>\n",
       "      <th>Flag 5_12</th>\n",
       "      <th>Flag 5_13</th>\n",
       "      <th>Flag 5_14</th>\n",
       "      <th>Flag 5_15</th>\n",
       "      <th>Flag 5_16</th>\n",
       "      <th>Flag 5_17</th>\n",
       "      <th>Flag 5_18</th>\n",
       "      <th>Flag 5_19</th>\n",
       "      <th>Flag 5_20</th>\n",
       "      <th>Flag 5_21</th>\n",
       "    </tr>\n",
       "  </thead>\n",
       "  <tbody>\n",
       "    <tr>\n",
       "      <th>0</th>\n",
       "      <td>6294937</td>\n",
       "      <td>24</td>\n",
       "      <td>16</td>\n",
       "      <td>20</td>\n",
       "      <td>52</td>\n",
       "      <td>0</td>\n",
       "      <td>14</td>\n",
       "      <td>94</td>\n",
       "      <td>44</td>\n",
       "      <td>16</td>\n",
       "      <td>...</td>\n",
       "      <td>0</td>\n",
       "      <td>0</td>\n",
       "      <td>0</td>\n",
       "      <td>0</td>\n",
       "      <td>0</td>\n",
       "      <td>0</td>\n",
       "      <td>0</td>\n",
       "      <td>0</td>\n",
       "      <td>0</td>\n",
       "      <td>0</td>\n",
       "    </tr>\n",
       "    <tr>\n",
       "      <th>1</th>\n",
       "      <td>6293796</td>\n",
       "      <td>9</td>\n",
       "      <td>2</td>\n",
       "      <td>0</td>\n",
       "      <td>18</td>\n",
       "      <td>27</td>\n",
       "      <td>0</td>\n",
       "      <td>26</td>\n",
       "      <td>2</td>\n",
       "      <td>6</td>\n",
       "      <td>...</td>\n",
       "      <td>0</td>\n",
       "      <td>0</td>\n",
       "      <td>0</td>\n",
       "      <td>0</td>\n",
       "      <td>0</td>\n",
       "      <td>0</td>\n",
       "      <td>0</td>\n",
       "      <td>0</td>\n",
       "      <td>0</td>\n",
       "      <td>0</td>\n",
       "    </tr>\n",
       "    <tr>\n",
       "      <th>2</th>\n",
       "      <td>6293911</td>\n",
       "      <td>1</td>\n",
       "      <td>11</td>\n",
       "      <td>12</td>\n",
       "      <td>0</td>\n",
       "      <td>11</td>\n",
       "      <td>13</td>\n",
       "      <td>5</td>\n",
       "      <td>6</td>\n",
       "      <td>11</td>\n",
       "      <td>...</td>\n",
       "      <td>0</td>\n",
       "      <td>0</td>\n",
       "      <td>0</td>\n",
       "      <td>1</td>\n",
       "      <td>0</td>\n",
       "      <td>0</td>\n",
       "      <td>0</td>\n",
       "      <td>0</td>\n",
       "      <td>0</td>\n",
       "      <td>0</td>\n",
       "    </tr>\n",
       "    <tr>\n",
       "      <th>3</th>\n",
       "      <td>6293048</td>\n",
       "      <td>1</td>\n",
       "      <td>0</td>\n",
       "      <td>0</td>\n",
       "      <td>0</td>\n",
       "      <td>2</td>\n",
       "      <td>0</td>\n",
       "      <td>10</td>\n",
       "      <td>1</td>\n",
       "      <td>0</td>\n",
       "      <td>...</td>\n",
       "      <td>0</td>\n",
       "      <td>0</td>\n",
       "      <td>0</td>\n",
       "      <td>1</td>\n",
       "      <td>0</td>\n",
       "      <td>0</td>\n",
       "      <td>0</td>\n",
       "      <td>0</td>\n",
       "      <td>0</td>\n",
       "      <td>0</td>\n",
       "    </tr>\n",
       "    <tr>\n",
       "      <th>4</th>\n",
       "      <td>6294364</td>\n",
       "      <td>16</td>\n",
       "      <td>14</td>\n",
       "      <td>48</td>\n",
       "      <td>6</td>\n",
       "      <td>6</td>\n",
       "      <td>0</td>\n",
       "      <td>8</td>\n",
       "      <td>18</td>\n",
       "      <td>12</td>\n",
       "      <td>...</td>\n",
       "      <td>0</td>\n",
       "      <td>0</td>\n",
       "      <td>0</td>\n",
       "      <td>0</td>\n",
       "      <td>0</td>\n",
       "      <td>0</td>\n",
       "      <td>0</td>\n",
       "      <td>0</td>\n",
       "      <td>0</td>\n",
       "      <td>0</td>\n",
       "    </tr>\n",
       "  </tbody>\n",
       "</table>\n",
       "<p>5 rows × 158 columns</p>\n",
       "</div>"
      ],
      "text/plain": [
       "   Company ID  Activity 1 Time Period 11  Activity 1 Time Period 10  \\\n",
       "0     6294937                         24                         16   \n",
       "1     6293796                          9                          2   \n",
       "2     6293911                          1                         11   \n",
       "3     6293048                          1                          0   \n",
       "4     6294364                         16                         14   \n",
       "\n",
       "   Activity 1 Time Period 9  Activity 1 Time Period 8  \\\n",
       "0                        20                        52   \n",
       "1                         0                        18   \n",
       "2                        12                         0   \n",
       "3                         0                         0   \n",
       "4                        48                         6   \n",
       "\n",
       "   Activity 1 Time Period 7  Activity 1 Time Period 6  \\\n",
       "0                         0                        14   \n",
       "1                        27                         0   \n",
       "2                        11                        13   \n",
       "3                         2                         0   \n",
       "4                         6                         0   \n",
       "\n",
       "   Activity 1 Time Period 5  Activity 1 Time Period 4  \\\n",
       "0                        94                        44   \n",
       "1                        26                         2   \n",
       "2                         5                         6   \n",
       "3                        10                         1   \n",
       "4                         8                        18   \n",
       "\n",
       "   Activity 1 Time Period 3  ...  Flag 5_12  Flag 5_13  Flag 5_14  Flag 5_15  \\\n",
       "0                        16  ...          0          0          0          0   \n",
       "1                         6  ...          0          0          0          0   \n",
       "2                        11  ...          0          0          0          1   \n",
       "3                         0  ...          0          0          0          1   \n",
       "4                        12  ...          0          0          0          0   \n",
       "\n",
       "   Flag 5_16  Flag 5_17  Flag 5_18  Flag 5_19  Flag 5_20  Flag 5_21  \n",
       "0          0          0          0          0          0          0  \n",
       "1          0          0          0          0          0          0  \n",
       "2          0          0          0          0          0          0  \n",
       "3          0          0          0          0          0          0  \n",
       "4          0          0          0          0          0          0  \n",
       "\n",
       "[5 rows x 158 columns]"
      ]
     },
     "execution_count": 10,
     "metadata": {},
     "output_type": "execute_result"
    }
   ],
   "source": [
    "X.head()"
   ]
  },
  {
   "cell_type": "code",
   "execution_count": 10,
   "metadata": {},
   "outputs": [],
   "source": [
    "Act1=X['Activity 1 Time Period 11']+X['Activity 1 Time Period 10']+X['Activity 1 Time Period 9']+X['Activity 1 Time Period 8']+X['Activity 1 Time Period 7']+X['Activity 1 Time Period 6']+X['Activity 1 Time Period 5']+X['Activity 1 Time Period 4']+X['Activity 1 Time Period 3']+X['Activity 1 Time Period 2']+X['Activity 1 Time Period 1']+X['Activity 1 Time Period 0']\n",
    "Act2=X['Activity 2 Time Period 11']+X['Activity 2 Time Period 10']+X['Activity 2 Time Period 9']+X['Activity 2 Time Period 8']+X['Activity 2 Time Period 7']+X['Activity 2 Time Period 6']+X['Activity 2 Time Period 5']+X['Activity 2 Time Period 4']+X['Activity 2 Time Period 3']+X['Activity 2 Time Period 2']+X['Activity 2 Time Period 1']+X['Activity 2 Time Period 0']\n",
    "Act3=X['Activity 3 Time Period 11']+X['Activity 3 Time Period 10']+X['Activity 3 Time Period 9']+X['Activity 3 Time Period 8']+X['Activity 3 Time Period 7']+X['Activity 3 Time Period 6']+X['Activity 3 Time Period 5']+X['Activity 3 Time Period 4']+X['Activity 3 Time Period 3']+X['Activity 3 Time Period 2']+X['Activity 3 Time Period 1']+X['Activity 3 Time Period 0']\n",
    "Act4=X['Activity 4 Time Period 11']+X['Activity 4 Time Period 10']+X['Activity 4 Time Period 9']+X['Activity 4 Time Period 8']+X['Activity 4 Time Period 7']+X['Activity 4 Time Period 6']+X['Activity 4 Time Period 5']+X['Activity 4 Time Period 4']+X['Activity 4 Time Period 3']+X['Activity 4 Time Period 2']+X['Activity 4 Time Period 1']+X['Activity 4 Time Period 0']\n",
    "Act5=X['Activity 5 Time Period  11']+X['Activity 5 Time Period  10']+X['Activity 5 Time Period  9']+X['Activity 5 Time Period  8']+X['Activity 5 Time Period  7']+X['Activity 5 Time Period  6']+X['Activity 5 Time Period  5']+X['Activity 5 Time Period  4']+X['Activity 5 Time Period  3']+X['Activity 5 Time Period  2']+X['Activity 5 Time Period  1']+X['Activity 5 Time Period  0']\n",
    "Act6=X['Activity 6 Time Period  11']+X['Activity 6 Time Period  10']+X['Activity 6 Time Period  9']+X['Activity 6 Time Period  8']+X['Activity 6 Time Period  7']+X['Activity 6 Time Period  6']+X['Activity 6 Time Period  5']+X['Activity 6 Time Period  4']+X['Activity 6 Time Period  3']+X['Activity 6 Time Period  2']+X['Activity 6 Time Period  1']+X['Activity 6 Time Period  0']\n",
    "Act7=X['Activity 7 Time Period  11']+X['Activity 7 Time Period  10']+X['Activity 7 Time Period  9']+X['Activity 7 Time Period  8']+X['Activity 7 Time Period  7']+X['Activity 7 Time Period  6']+X['Activity 7 Time Period  5']+X['Activity 7 Time Period  4']+X['Activity 7 Time Period  3']+X['Activity 7 Time Period  2']+X['Activity 7 Time Period  1']+X['Activity 7 Time Period  0']\n",
    "Act8=X['Activity 8 Time Period 11']+X['Activity 8 Time Period 10']+X['Activity 8 Time Period 9']+X['Activity 8 Time Period 8']+X['Activity 8 Time Period 7']+X['Activity 8 Time Period 6']+X['Activity 8 Time Period 5']+X['Activity 8 Time Period 4']+X['Activity 8 Time Period 3']+X['Activity 8 Time Period 2']+X['Activity 8 Time Period 1']+X['Activity 8 Time Period 0']"
   ]
  },
  {
   "cell_type": "code",
   "execution_count": 21,
   "metadata": {},
   "outputs": [],
   "source": [
    "Act1=scale(Act1)\n",
    "Act2=scale(Act2)\n",
    "Act3=scale(Act3)\n",
    "Act4=scale(Act4)\n",
    "Act5=scale(Act5)\n",
    "Act6=scale(Act6)\n",
    "Act7=scale(Act7)\n",
    "Act8=scale(Act8)"
   ]
  },
  {
   "cell_type": "code",
   "execution_count": 12,
   "metadata": {},
   "outputs": [
    {
     "name": "stdout",
     "output_type": "stream",
     "text": [
      "Company ID\n",
      "Activity 1 Time Period 11\n",
      "Activity 1 Time Period 10\n",
      "Activity 1 Time Period 9\n",
      "Activity 1 Time Period 8\n",
      "Activity 1 Time Period 7\n",
      "Activity 1 Time Period 6\n",
      "Activity 1 Time Period 5\n",
      "Activity 1 Time Period 4\n",
      "Activity 1 Time Period 3\n",
      "Activity 1 Time Period 2\n",
      "Activity 1 Time Period 1\n",
      "Activity 1 Time Period 0\n",
      "Activity 2 Time Period 11\n",
      "Activity 2 Time Period 10\n",
      "Activity 2 Time Period 9\n",
      "Activity 2 Time Period 8\n",
      "Activity 2 Time Period 7\n",
      "Activity 2 Time Period 6\n",
      "Activity 2 Time Period 5\n",
      "Activity 2 Time Period 4\n",
      "Activity 2 Time Period 3\n",
      "Activity 2 Time Period 2\n",
      "Activity 2 Time Period 1\n",
      "Activity 2 Time Period 0\n",
      "Activity 3 Time Period 11\n",
      "Activity 3 Time Period 10\n",
      "Activity 3 Time Period 9\n",
      "Activity 3 Time Period 8\n",
      "Activity 3 Time Period 7\n",
      "Activity 3 Time Period 6\n",
      "Activity 3 Time Period 5\n",
      "Activity 3 Time Period 4\n",
      "Activity 3 Time Period 3\n",
      "Activity 3 Time Period 2\n",
      "Activity 3 Time Period 1\n",
      "Activity 3 Time Period 0\n",
      "Activity 4 Time Period 11\n",
      "Activity 4 Time Period 10\n",
      "Activity 4 Time Period 9\n",
      "Activity 4 Time Period 8\n",
      "Activity 4 Time Period 7\n",
      "Activity 4 Time Period 6\n",
      "Activity 4 Time Period 5\n",
      "Activity 4 Time Period 4\n",
      "Activity 4 Time Period 3\n",
      "Activity 4 Time Period 2\n",
      "Activity 4 Time Period 1\n",
      "Activity 4 Time Period 0\n",
      "Activity 5 Time Period  11\n",
      "Activity 5 Time Period  10\n",
      "Activity 5 Time Period  9\n",
      "Activity 5 Time Period  8\n",
      "Activity 5 Time Period  7\n",
      "Activity 5 Time Period  6\n",
      "Activity 5 Time Period  5\n",
      "Activity 5 Time Period  4\n",
      "Activity 5 Time Period  3\n",
      "Activity 5 Time Period  2\n",
      "Activity 5 Time Period  1\n",
      "Activity 5 Time Period  0\n",
      "Activity 6 Time Period  11\n",
      "Activity 6 Time Period  10\n",
      "Activity 6 Time Period  9\n",
      "Activity 6 Time Period  8\n",
      "Activity 6 Time Period  7\n",
      "Activity 6 Time Period  6\n",
      "Activity 6 Time Period  5\n",
      "Activity 6 Time Period  4\n",
      "Activity 6 Time Period  3\n",
      "Activity 6 Time Period  2\n",
      "Activity 6 Time Period  1\n",
      "Activity 6 Time Period  0\n",
      "Activity 7 Time Period  11\n",
      "Activity 7 Time Period  10\n",
      "Activity 7 Time Period  9\n",
      "Activity 7 Time Period  8\n",
      "Activity 7 Time Period  7\n",
      "Activity 7 Time Period  6\n",
      "Activity 7 Time Period  5\n",
      "Activity 7 Time Period  4\n",
      "Activity 7 Time Period  3\n",
      "Activity 7 Time Period  2\n",
      "Activity 7 Time Period  1\n",
      "Activity 7 Time Period  0\n",
      "Activity 8 Time Period 11\n",
      "Activity 8 Time Period 10\n",
      "Activity 8 Time Period 9\n",
      "Activity 8 Time Period 8\n",
      "Activity 8 Time Period 7\n",
      "Activity 8 Time Period 6\n",
      "Activity 8 Time Period 5\n",
      "Activity 8 Time Period 4\n",
      "Activity 8 Time Period 3\n",
      "Activity 8 Time Period 2\n",
      "Activity 8 Time Period 1\n",
      "Activity 8 Time Period 0\n",
      "Client Contract Starting Month_Apr\n",
      "Client Contract Starting Month_Aug\n",
      "Client Contract Starting Month_Dec\n",
      "Client Contract Starting Month_Feb\n",
      "Client Contract Starting Month_Jan\n",
      "Client Contract Starting Month_Jul\n",
      "Client Contract Starting Month_Jun\n",
      "Client Contract Starting Month_Mar\n",
      "Client Contract Starting Month_May\n",
      "Client Contract Starting Month_Nov\n",
      "Client Contract Starting Month_Oct\n",
      "Client Contract Starting Month_Sep\n",
      "Flag 1_Multi Year\n",
      "Flag 1_Single Year\n",
      "Flag 3_C\n",
      "Flag 3_No\n",
      "Flag 3_Yes\n",
      "Flag 4_No\n",
      "Flag 4_Unknown\n",
      "Flag 4_Yes\n",
      "Flag 6_Banking, Finance & Ins\n",
      "Flag 6_Education\n",
      "Flag 6_Energy & Utilities\n",
      "Flag 6_Government\n",
      "Flag 6_Healthcare\n",
      "Flag 6_Manufacturing\n",
      "Flag 6_Retail\n",
      "Flag 6_Services\n",
      "Flag 6_Technology and Telecom\n",
      "Flag 6_Unknown\n",
      "Flag 2_1\n",
      "Flag 2_2\n",
      "Flag 2_3\n",
      "Flag 2_4\n",
      "Flag 2_5\n",
      "Flag 2_6\n",
      "Flag 2_7\n",
      "Flag 2_9\n",
      "Flag 2_10\n",
      "Flag 2_13\n",
      "Flag 5_1\n",
      "Flag 5_2\n",
      "Flag 5_3\n",
      "Flag 5_4\n",
      "Flag 5_5\n",
      "Flag 5_6\n",
      "Flag 5_7\n",
      "Flag 5_8\n",
      "Flag 5_9\n",
      "Flag 5_10\n",
      "Flag 5_11\n",
      "Flag 5_12\n",
      "Flag 5_13\n",
      "Flag 5_14\n",
      "Flag 5_15\n",
      "Flag 5_16\n",
      "Flag 5_17\n",
      "Flag 5_18\n",
      "Flag 5_19\n",
      "Flag 5_20\n",
      "Flag 5_21\n"
     ]
    }
   ],
   "source": [
    "for lamda in X.columns:\n",
    "    print(lamda)"
   ]
  },
  {
   "cell_type": "code",
   "execution_count": 22,
   "metadata": {},
   "outputs": [],
   "source": [
    "data=pd.read_csv('Train.csv')\n",
    "data.head()\n",
    "data['Client Retention Flag']= data['Client Retention Flag'].map({'Yes': 1, 'No': 0})"
   ]
  },
  {
   "cell_type": "code",
   "execution_count": 24,
   "metadata": {},
   "outputs": [],
   "source": [
    "d=pd.DataFrame()"
   ]
  },
  {
   "cell_type": "code",
   "execution_count": 25,
   "metadata": {},
   "outputs": [],
   "source": [
    "d['Act1']=Act1\n",
    "d['Act2']=Act2\n",
    "d['Act3']=Act3\n",
    "d['Act4']=Act4\n",
    "d['Act5']=Act5\n",
    "d['Act6']=Act6\n",
    "d['Act7']=Act7\n",
    "d['Act8']=Act8"
   ]
  },
  {
   "cell_type": "code",
   "execution_count": 26,
   "metadata": {},
   "outputs": [],
   "source": [
    "d['Company ID']=data['Company ID']\n",
    "d['Flag 1']=data['Flag 1']\n",
    "d['Flag 2']=data['Flag 2']\n",
    "d['Flag 3']=data['Flag 3']\n",
    "d['Flag 4']=data['Flag 4']\n",
    "d['Flag 5']=data['Flag 5']\n",
    "d['Flag 6']=data['Flag 6']"
   ]
  },
  {
   "cell_type": "code",
   "execution_count": 27,
   "metadata": {},
   "outputs": [],
   "source": [
    "d.head()\n",
    "data_encoded_2=pd.get_dummies(d)\n",
    "pd.get_dummies(data_encoded_2,drop_first=True)\n",
    "data_encoded_2=pd.get_dummies(data_encoded_2,columns=['Flag 2','Flag 5'])"
   ]
  },
  {
   "cell_type": "code",
   "execution_count": 30,
   "metadata": {},
   "outputs": [],
   "source": [
    "data_encoded_2.head()\n",
    "d['Company ID']=scale(data['Company ID'])\n",
    "X=data_encoded_2"
   ]
  },
  {
   "cell_type": "code",
   "execution_count": 31,
   "metadata": {},
   "outputs": [],
   "source": [
    "train_X, test_X, train_Y, test_Y = train_test_split(X,Y,random_state=2)"
   ]
  },
  {
   "cell_type": "code",
   "execution_count": 32,
   "metadata": {},
   "outputs": [
    {
     "name": "stderr",
     "output_type": "stream",
     "text": [
      "F:\\Anaconda\\lib\\site-packages\\xgboost\\core.py:587: FutureWarning: Series.base is deprecated and will be removed in a future version\n",
      "  if getattr(data, 'base', None) is not None and \\\n"
     ]
    },
    {
     "name": "stdout",
     "output_type": "stream",
     "text": [
      "[0]\ttest-mae:0.492005\n",
      "Will train until test-mae hasn't improved in 20 rounds.\n",
      "[100]\ttest-mae:0.347566\n",
      "[200]\ttest-mae:0.336283\n",
      "[300]\ttest-mae:0.32793\n",
      "[400]\ttest-mae:0.320732\n",
      "[500]\ttest-mae:0.315481\n",
      "[600]\ttest-mae:0.311955\n",
      "[700]\ttest-mae:0.306816\n",
      "[800]\ttest-mae:0.303106\n",
      "[900]\ttest-mae:0.299164\n",
      "[1000]\ttest-mae:0.296571\n",
      "Stopping. Best iteration:\n",
      "[1078]\ttest-mae:0.294332\n",
      "\n"
     ]
    }
   ],
   "source": [
    "d_train = xgb.DMatrix(train_X, label=train_Y)\n",
    "d_test = xgb.DMatrix(test_X, label=test_Y)\n",
    "params = {\n",
    "    \"eta\": 0.06,\n",
    "    \"objective\": \"binary:logistic\",\n",
    "    \"subsample\": 0.5,\n",
    "    \"base_score\": 0.5,\n",
    "    \"eval_metric\": \"mae\",\n",
    "    \"n_jobs\":4\n",
    "}\n",
    "model2 = xgb.train(params, d_train, 2000, evals = [(d_test, \"test\")], verbose_eval=100, early_stopping_rounds=20)"
   ]
  },
  {
   "cell_type": "code",
   "execution_count": 33,
   "metadata": {},
   "outputs": [
    {
     "name": "stdout",
     "output_type": "stream",
     "text": [
      "                           feature  importance\n",
      "2                      Company ID       10311\n",
      "0                            Act1        7842\n",
      "5                            Act2        4227\n",
      "4                            Act4        3121\n",
      "7                            Act3        2299\n",
      "11                           Act8         778\n",
      "1               Flag 1_Multi Year         772\n",
      "9                        Flag 2_2         658\n",
      "18                      Flag 3_No         645\n",
      "23               Flag 6_Education         576\n",
      "17                 Flag 4_Unknown         541\n",
      "15                       Flag 2_6         516\n",
      "14                       Flag 5_8         453\n",
      "3            Flag 6_Manufacturing         401\n",
      "24                           Act7         387\n",
      "16                       Flag 2_7         355\n",
      "19                      Flag 5_15         312\n",
      "6   Flag 6_Technology and Telecom         302\n",
      "12              Flag 6_Government         271\n",
      "22  Flag 6_Banking, Finance & Ins         230\n",
      "26                           Act5         182\n",
      "28                           Act6         172\n",
      "34              Flag 6_Healthcare         144\n",
      "10                      Flag 2_10         126\n",
      "8                 Flag 6_Services         113\n",
      "20                       Flag 2_3         107\n",
      "33                      Flag 5_18         103\n",
      "25                       Flag 5_6          97\n",
      "13                      Flag 5_14          82\n",
      "31                       Flag 5_7          78\n",
      "21                      Flag 5_17          74\n",
      "37                       Flag 2_4          57\n",
      "32      Flag 6_Energy & Utilities          55\n",
      "27                      Flag 5_16          49\n",
      "29                      Flag 5_19          35\n",
      "39                  Flag 6_Retail          35\n",
      "35                     Flag 4_Yes          32\n",
      "38                       Flag 5_5          27\n",
      "42                      Flag 5_10          26\n",
      "30                       Flag 5_9          21\n",
      "41                      Flag 5_13          18\n",
      "36                      Flag 5_12          11\n",
      "43                 Flag 6_Unknown           6\n",
      "40                       Flag 5_4           4\n",
      "44                       Flag 5_2           3\n",
      "45                       Flag 5_1           3\n"
     ]
    }
   ],
   "source": [
    "xgb_fea_imp=pd.DataFrame(list(model2.get_fscore().items()),\n",
    "columns=['feature','importance']).sort_values('importance', ascending=False)\n",
    "print('',xgb_fea_imp)"
   ]
  },
  {
   "cell_type": "code",
   "execution_count": 39,
   "metadata": {},
   "outputs": [],
   "source": [
    "y_pred=model2.predict(d_test)\n",
    "y_pred\n",
    "for i in range(y_pred.size):\n",
    "    y_pred[i]=round(y_pred[i])"
   ]
  },
  {
   "cell_type": "code",
   "execution_count": 40,
   "metadata": {},
   "outputs": [
    {
     "data": {
      "text/plain": [
       "0.7595802919708029"
      ]
     },
     "execution_count": 40,
     "metadata": {},
     "output_type": "execute_result"
    }
   ],
   "source": [
    "metrics.accuracy_score(test_Y,y_pred)"
   ]
  },
  {
   "cell_type": "code",
   "execution_count": 41,
   "metadata": {},
   "outputs": [],
   "source": [
    "clf_xgb = xgb.XGBClassifier(objective = 'binary:logistic')\n",
    "param_dist = {'n_estimators': stats.randint(150, 1000),\n",
    "              'learning_rate': stats.uniform(0.01, 0.6),\n",
    "              'subsample': stats.uniform(0.3, 0.9),\n",
    "              'max_depth': [3, 4, 5, 6, 7, 8, 9],\n",
    "              'colsample_bytree': stats.uniform(0.5, 0.9),\n",
    "              'min_child_weight': [1, 2, 3, 4]\n",
    "             }\n",
    "\n",
    "numFolds = 5\n",
    "#kfold_5 = KFold(n=len(X), shuffle = True, n_folds = numFolds)\n",
    "\n",
    "clf = RandomizedSearchCV(clf_xgb, \n",
    "                         param_distributions = param_dist,\n",
    "#                         cv = kfold_5,  \n",
    "                         n_iter = 5, # you want 5 here not 25 if I understand you correctly \n",
    "                         scoring = 'roc_auc', \n",
    "                         error_score = 0, \n",
    "                         verbose = 3, \n",
    "                         n_jobs = -1)"
   ]
  },
  {
   "cell_type": "code",
   "execution_count": 42,
   "metadata": {},
   "outputs": [
    {
     "data": {
      "text/plain": [
       "RandomizedSearchCV(cv='warn', error_score=0,\n",
       "                   estimator=XGBClassifier(base_score=0.5, booster='gbtree',\n",
       "                                           colsample_bylevel=1,\n",
       "                                           colsample_bynode=1,\n",
       "                                           colsample_bytree=1, gamma=0,\n",
       "                                           learning_rate=0.1, max_delta_step=0,\n",
       "                                           max_depth=3, min_child_weight=1,\n",
       "                                           missing=None, n_estimators=100,\n",
       "                                           n_jobs=1, nthread=None,\n",
       "                                           objective='binary:logistic',\n",
       "                                           random_state=0, reg_alpha=0,\n",
       "                                           reg_lambda=1...\n",
       "                                        'learning_rate': <scipy.stats._distn_infrastructure.rv_frozen object at 0x000001A501FAD3C8>,\n",
       "                                        'max_depth': [3, 4, 5, 6, 7, 8, 9],\n",
       "                                        'min_child_weight': [1, 2, 3, 4],\n",
       "                                        'n_estimators': <scipy.stats._distn_infrastructure.rv_frozen object at 0x000001A501FAD198>,\n",
       "                                        'subsample': <scipy.stats._distn_infrastructure.rv_frozen object at 0x000001A501FAD940>},\n",
       "                   pre_dispatch='2*n_jobs', random_state=None, refit=True,\n",
       "                   return_train_score=False, scoring='roc_auc', verbose=3)"
      ]
     },
     "execution_count": 42,
     "metadata": {},
     "output_type": "execute_result"
    }
   ],
   "source": [
    "clf"
   ]
  },
  {
   "cell_type": "code",
   "execution_count": 43,
   "metadata": {},
   "outputs": [
    {
     "name": "stderr",
     "output_type": "stream",
     "text": [
      "F:\\Anaconda\\lib\\site-packages\\sklearn\\model_selection\\_split.py:1978: FutureWarning: The default value of cv will change from 3 to 5 in version 0.22. Specify it explicitly to silence this warning.\n",
      "  warnings.warn(CV_WARNING, FutureWarning)\n",
      "[Parallel(n_jobs=-1)]: Using backend LokyBackend with 4 concurrent workers.\n"
     ]
    },
    {
     "name": "stdout",
     "output_type": "stream",
     "text": [
      "Fitting 3 folds for each of 5 candidates, totalling 15 fits\n"
     ]
    },
    {
     "name": "stderr",
     "output_type": "stream",
     "text": [
      "[Parallel(n_jobs=-1)]: Done  15 out of  15 | elapsed:   37.9s finished\n"
     ]
    },
    {
     "data": {
      "text/plain": [
       "RandomizedSearchCV(cv='warn', error_score=0,\n",
       "                   estimator=XGBClassifier(base_score=0.5, booster='gbtree',\n",
       "                                           colsample_bylevel=1,\n",
       "                                           colsample_bynode=1,\n",
       "                                           colsample_bytree=1, gamma=0,\n",
       "                                           learning_rate=0.1, max_delta_step=0,\n",
       "                                           max_depth=3, min_child_weight=1,\n",
       "                                           missing=None, n_estimators=100,\n",
       "                                           n_jobs=1, nthread=None,\n",
       "                                           objective='binary:logistic',\n",
       "                                           random_state=0, reg_alpha=0,\n",
       "                                           reg_lambda=1...\n",
       "                                        'learning_rate': <scipy.stats._distn_infrastructure.rv_frozen object at 0x000001A501FAD3C8>,\n",
       "                                        'max_depth': [3, 4, 5, 6, 7, 8, 9],\n",
       "                                        'min_child_weight': [1, 2, 3, 4],\n",
       "                                        'n_estimators': <scipy.stats._distn_infrastructure.rv_frozen object at 0x000001A501FAD198>,\n",
       "                                        'subsample': <scipy.stats._distn_infrastructure.rv_frozen object at 0x000001A501FAD940>},\n",
       "                   pre_dispatch='2*n_jobs', random_state=None, refit=True,\n",
       "                   return_train_score=False, scoring='roc_auc', verbose=3)"
      ]
     },
     "execution_count": 43,
     "metadata": {},
     "output_type": "execute_result"
    }
   ],
   "source": [
    "clf.fit(train_X,train_Y)"
   ]
  },
  {
   "cell_type": "code",
   "execution_count": 47,
   "metadata": {},
   "outputs": [
    {
     "data": {
      "text/plain": [
       "{'mean_fit_time': array([18.52993147,  0.0762287 , 16.76820858,  0.04398704,  0.04932149]),\n",
       " 'std_fit_time': array([9.26121347e-02, 4.30434463e-02, 3.90762083e+00, 3.26935132e-03,\n",
       "        7.54068935e-03]),\n",
       " 'mean_score_time': array([0.16129406, 0.        , 0.10097996, 0.        , 0.        ]),\n",
       " 'std_score_time': array([0.02222466, 0.        , 0.00743114, 0.        , 0.        ]),\n",
       " 'param_colsample_bytree': masked_array(data=[0.7628629634763576, 1.269927083572627,\n",
       "                    0.9898652136162114, 0.5987114447860448,\n",
       "                    0.8785956354586153],\n",
       "              mask=[False, False, False, False, False],\n",
       "        fill_value='?',\n",
       "             dtype=object),\n",
       " 'param_learning_rate': masked_array(data=[0.38778239077522564, 0.08819196491176401,\n",
       "                    0.34318836056896623, 0.3488935464922701,\n",
       "                    0.5172453285441608],\n",
       "              mask=[False, False, False, False, False],\n",
       "        fill_value='?',\n",
       "             dtype=object),\n",
       " 'param_max_depth': masked_array(data=[5, 9, 4, 4, 3],\n",
       "              mask=[False, False, False, False, False],\n",
       "        fill_value='?',\n",
       "             dtype=object),\n",
       " 'param_min_child_weight': masked_array(data=[2, 2, 2, 2, 2],\n",
       "              mask=[False, False, False, False, False],\n",
       "        fill_value='?',\n",
       "             dtype=object),\n",
       " 'param_n_estimators': masked_array(data=[426, 265, 552, 374, 553],\n",
       "              mask=[False, False, False, False, False],\n",
       "        fill_value='?',\n",
       "             dtype=object),\n",
       " 'param_subsample': masked_array(data=[0.7213032376650956, 0.45663363725923245,\n",
       "                    0.9830161818311713, 1.0420373436637158,\n",
       "                    1.198164644795731],\n",
       "              mask=[False, False, False, False, False],\n",
       "        fill_value='?',\n",
       "             dtype=object),\n",
       " 'params': [{'colsample_bytree': 0.7628629634763576,\n",
       "   'learning_rate': 0.38778239077522564,\n",
       "   'max_depth': 5,\n",
       "   'min_child_weight': 2,\n",
       "   'n_estimators': 426,\n",
       "   'subsample': 0.7213032376650956},\n",
       "  {'colsample_bytree': 1.269927083572627,\n",
       "   'learning_rate': 0.08819196491176401,\n",
       "   'max_depth': 9,\n",
       "   'min_child_weight': 2,\n",
       "   'n_estimators': 265,\n",
       "   'subsample': 0.45663363725923245},\n",
       "  {'colsample_bytree': 0.9898652136162114,\n",
       "   'learning_rate': 0.34318836056896623,\n",
       "   'max_depth': 4,\n",
       "   'min_child_weight': 2,\n",
       "   'n_estimators': 552,\n",
       "   'subsample': 0.9830161818311713},\n",
       "  {'colsample_bytree': 0.5987114447860448,\n",
       "   'learning_rate': 0.3488935464922701,\n",
       "   'max_depth': 4,\n",
       "   'min_child_weight': 2,\n",
       "   'n_estimators': 374,\n",
       "   'subsample': 1.0420373436637158},\n",
       "  {'colsample_bytree': 0.8785956354586153,\n",
       "   'learning_rate': 0.5172453285441608,\n",
       "   'max_depth': 3,\n",
       "   'min_child_weight': 2,\n",
       "   'n_estimators': 553,\n",
       "   'subsample': 1.198164644795731}],\n",
       " 'split0_test_score': array([0.75370976, 0.        , 0.7852773 , 0.        , 0.        ]),\n",
       " 'split1_test_score': array([0.74155911, 0.        , 0.76914468, 0.        , 0.        ]),\n",
       " 'split2_test_score': array([0.73966676, 0.        , 0.76748097, 0.        , 0.        ]),\n",
       " 'mean_test_score': array([0.74497987, 0.        , 0.77396937, 0.        , 0.        ]),\n",
       " 'std_test_score': array([0.00622251, 0.        , 0.00802652, 0.        , 0.        ]),\n",
       " 'rank_test_score': array([2, 3, 1, 3, 3])}"
      ]
     },
     "execution_count": 47,
     "metadata": {},
     "output_type": "execute_result"
    }
   ],
   "source": [
    "clf.cv_results_"
   ]
  },
  {
   "cell_type": "code",
   "execution_count": 46,
   "metadata": {},
   "outputs": [
    {
     "data": {
      "text/plain": [
       "array([0.74497987, 0.        , 0.77396937, 0.        , 0.        ])"
      ]
     },
     "execution_count": 46,
     "metadata": {},
     "output_type": "execute_result"
    }
   ],
   "source": [
    "clf.cv_results_['mean_test_score']"
   ]
  },
  {
   "cell_type": "code",
   "execution_count": 45,
   "metadata": {},
   "outputs": [
    {
     "data": {
      "text/plain": [
       "[{'colsample_bytree': 0.7628629634763576,\n",
       "  'learning_rate': 0.38778239077522564,\n",
       "  'max_depth': 5,\n",
       "  'min_child_weight': 2,\n",
       "  'n_estimators': 426,\n",
       "  'subsample': 0.7213032376650956},\n",
       " {'colsample_bytree': 1.269927083572627,\n",
       "  'learning_rate': 0.08819196491176401,\n",
       "  'max_depth': 9,\n",
       "  'min_child_weight': 2,\n",
       "  'n_estimators': 265,\n",
       "  'subsample': 0.45663363725923245},\n",
       " {'colsample_bytree': 0.9898652136162114,\n",
       "  'learning_rate': 0.34318836056896623,\n",
       "  'max_depth': 4,\n",
       "  'min_child_weight': 2,\n",
       "  'n_estimators': 552,\n",
       "  'subsample': 0.9830161818311713},\n",
       " {'colsample_bytree': 0.5987114447860448,\n",
       "  'learning_rate': 0.3488935464922701,\n",
       "  'max_depth': 4,\n",
       "  'min_child_weight': 2,\n",
       "  'n_estimators': 374,\n",
       "  'subsample': 1.0420373436637158},\n",
       " {'colsample_bytree': 0.8785956354586153,\n",
       "  'learning_rate': 0.5172453285441608,\n",
       "  'max_depth': 3,\n",
       "  'min_child_weight': 2,\n",
       "  'n_estimators': 553,\n",
       "  'subsample': 1.198164644795731}]"
      ]
     },
     "execution_count": 45,
     "metadata": {},
     "output_type": "execute_result"
    }
   ],
   "source": [
    "clf.cv_results_['params']"
   ]
  }
 ],
 "metadata": {
  "kernelspec": {
   "display_name": "Python 3",
   "language": "python",
   "name": "python3"
  },
  "language_info": {
   "codemirror_mode": {
    "name": "ipython",
    "version": 3
   },
   "file_extension": ".py",
   "mimetype": "text/x-python",
   "name": "python",
   "nbconvert_exporter": "python",
   "pygments_lexer": "ipython3",
   "version": "3.7.3"
  }
 },
 "nbformat": 4,
 "nbformat_minor": 2
}
